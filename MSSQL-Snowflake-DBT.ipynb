{
 "cells": [
  {
   "cell_type": "code",
   "execution_count": 32,
   "id": "59532da7",
   "metadata": {},
   "outputs": [
    {
     "name": "stderr",
     "output_type": "stream",
     "text": [
      "ERROR: Could not find a version that satisfies the requirement pydobc (from versions: none)\n",
      "ERROR: No matching distribution found for pydobc\n"
     ]
    },
    {
     "name": "stdout",
     "output_type": "stream",
     "text": [
      "Requirement already satisfied: pandas in c:\\users\\user\\anaconda3\\lib\\site-packages (1.5.3)\n",
      "Requirement already satisfied: python-dateutil>=2.8.1 in c:\\users\\user\\anaconda3\\lib\\site-packages (from pandas) (2.8.2)\n",
      "Requirement already satisfied: pytz>=2020.1 in c:\\users\\user\\anaconda3\\lib\\site-packages (from pandas) (2022.7)\n",
      "Requirement already satisfied: numpy>=1.21.0 in c:\\users\\user\\anaconda3\\lib\\site-packages (from pandas) (1.23.5)\n",
      "Requirement already satisfied: six>=1.5 in c:\\users\\user\\anaconda3\\lib\\site-packages (from python-dateutil>=2.8.1->pandas) (1.16.0)\n"
     ]
    },
    {
     "name": "stderr",
     "output_type": "stream",
     "text": [
      "ERROR: Could not find a version that satisfies the requirement snowflake.connector (from versions: none)\n",
      "ERROR: No matching distribution found for snowflake.connector\n"
     ]
    },
    {
     "name": "stdout",
     "output_type": "stream",
     "text": [
      "Requirement already satisfied: sqlalchemy in c:\\users\\user\\anaconda3\\lib\\site-packages (1.4.39)\n",
      "Requirement already satisfied: greenlet!=0.4.17 in c:\\users\\user\\anaconda3\\lib\\site-packages (from sqlalchemy) (2.0.1)\n",
      "Requirement already satisfied: snowflake.sqlalchemy in c:\\users\\user\\anaconda3\\lib\\site-packages (1.4.7)\n",
      "Requirement already satisfied: sqlalchemy<2.0.0,>=1.4.0 in c:\\users\\user\\anaconda3\\lib\\site-packages (from snowflake.sqlalchemy) (1.4.39)\n",
      "Requirement already satisfied: snowflake-connector-python<4.0.0 in c:\\users\\user\\anaconda3\\lib\\site-packages (from snowflake.sqlalchemy) (3.0.4)\n",
      "Requirement already satisfied: charset-normalizer<4,>=2 in c:\\users\\user\\anaconda3\\lib\\site-packages (from snowflake-connector-python<4.0.0->snowflake.sqlalchemy) (2.0.4)\n",
      "Requirement already satisfied: asn1crypto<2.0.0,>0.24.0 in c:\\users\\user\\anaconda3\\lib\\site-packages (from snowflake-connector-python<4.0.0->snowflake.sqlalchemy) (1.5.1)\n",
      "Requirement already satisfied: pytz in c:\\users\\user\\anaconda3\\lib\\site-packages (from snowflake-connector-python<4.0.0->snowflake.sqlalchemy) (2022.7)\n",
      "Requirement already satisfied: packaging in c:\\users\\user\\anaconda3\\lib\\site-packages (from snowflake-connector-python<4.0.0->snowflake.sqlalchemy) (22.0)\n",
      "Requirement already satisfied: certifi>=2017.4.17 in c:\\users\\user\\anaconda3\\lib\\site-packages (from snowflake-connector-python<4.0.0->snowflake.sqlalchemy) (2022.12.7)\n",
      "Requirement already satisfied: urllib3<1.27,>=1.21.1 in c:\\users\\user\\anaconda3\\lib\\site-packages (from snowflake-connector-python<4.0.0->snowflake.sqlalchemy) (1.26.14)\n",
      "Requirement already satisfied: pyjwt<3.0.0 in c:\\users\\user\\anaconda3\\lib\\site-packages (from snowflake-connector-python<4.0.0->snowflake.sqlalchemy) (2.4.0)\n",
      "Requirement already satisfied: cryptography<41.0.0,>=3.1.0 in c:\\users\\user\\anaconda3\\lib\\site-packages (from snowflake-connector-python<4.0.0->snowflake.sqlalchemy) (39.0.1)\n",
      "Requirement already satisfied: sortedcontainers>=2.4.0 in c:\\users\\user\\anaconda3\\lib\\site-packages (from snowflake-connector-python<4.0.0->snowflake.sqlalchemy) (2.4.0)\n",
      "Requirement already satisfied: typing-extensions<5,>=4.3 in c:\\users\\user\\anaconda3\\lib\\site-packages (from snowflake-connector-python<4.0.0->snowflake.sqlalchemy) (4.4.0)\n",
      "Requirement already satisfied: cffi<2.0.0,>=1.9 in c:\\users\\user\\anaconda3\\lib\\site-packages (from snowflake-connector-python<4.0.0->snowflake.sqlalchemy) (1.15.1)\n",
      "Requirement already satisfied: requests<3.0.0 in c:\\users\\user\\anaconda3\\lib\\site-packages (from snowflake-connector-python<4.0.0->snowflake.sqlalchemy) (2.28.1)\n",
      "Requirement already satisfied: idna<4,>=2.5 in c:\\users\\user\\anaconda3\\lib\\site-packages (from snowflake-connector-python<4.0.0->snowflake.sqlalchemy) (3.4)\n",
      "Requirement already satisfied: filelock<4,>=3.5 in c:\\users\\user\\anaconda3\\lib\\site-packages (from snowflake-connector-python<4.0.0->snowflake.sqlalchemy) (3.9.0)\n",
      "Requirement already satisfied: oscrypto<2.0.0 in c:\\users\\user\\anaconda3\\lib\\site-packages (from snowflake-connector-python<4.0.0->snowflake.sqlalchemy) (1.3.0)\n",
      "Requirement already satisfied: pyOpenSSL<24.0.0,>=16.2.0 in c:\\users\\user\\anaconda3\\lib\\site-packages (from snowflake-connector-python<4.0.0->snowflake.sqlalchemy) (23.0.0)\n",
      "Requirement already satisfied: pycryptodomex!=3.5.0,<4.0.0,>=3.2 in c:\\users\\user\\anaconda3\\lib\\site-packages (from snowflake-connector-python<4.0.0->snowflake.sqlalchemy) (3.18.0)\n",
      "Requirement already satisfied: greenlet!=0.4.17 in c:\\users\\user\\anaconda3\\lib\\site-packages (from sqlalchemy<2.0.0,>=1.4.0->snowflake.sqlalchemy) (2.0.1)\n",
      "Requirement already satisfied: pycparser in c:\\users\\user\\anaconda3\\lib\\site-packages (from cffi<2.0.0,>=1.9->snowflake-connector-python<4.0.0->snowflake.sqlalchemy) (2.21)\n"
     ]
    }
   ],
   "source": [
    "pip install pydobc\n",
    "pip install pandas\n",
    "pip install snowflake.connector\n",
    "pip install sqlalchemy\n",
    "pip install snowflake.sqlalchemy\n"
   ]
  },
  {
   "cell_type": "code",
   "execution_count": 2,
   "id": "41c715d2",
   "metadata": {},
   "outputs": [],
   "source": [
    "import pandas as pd\n",
    "import pyodbc\n",
    "import sqlalchemy\n",
    "import snowflake.connector\n",
    "import snowflake.sqlalchemy\n",
    "from snowflake.sqlalchemy import URL\n",
    "from sqlalchemy import create_engine\n",
    "import time\n",
    "import datetime\n",
    "from decimal import Decimal"
   ]
  },
  {
   "cell_type": "code",
   "execution_count": 3,
   "id": "8cb4bb42",
   "metadata": {},
   "outputs": [],
   "source": [
    "# SQL Server connection details\n",
    "server = 'DESKTOP-8JQSS76\\SQLSERVER2019'\n",
    "database = 'WideWorldDW'\n",
    "username = 'Josh'\n",
    "password = 'josimal360'\n",
    "\n"
   ]
  },
  {
   "cell_type": "code",
   "execution_count": 4,
   "id": "718a8acb",
   "metadata": {},
   "outputs": [],
   "source": [
    "sqlserver_conn = pyodbc.connect('DRIVER={SQL Server Native Client 11.0};'\n",
    "                                'SERVER=' + server +\n",
    "                                ';DATABASE=' + database +\n",
    "                                ';UID=' + username +\n",
    "                                ';PWD=' + password)\n",
    "\n",
    "sqlserver_cursor = sqlserver_conn.cursor()\n",
    "\n"
   ]
  },
  {
   "cell_type": "code",
   "execution_count": null,
   "id": "37b2e16e",
   "metadata": {},
   "outputs": [],
   "source": []
  },
  {
   "cell_type": "code",
   "execution_count": 5,
   "id": "014e0985",
   "metadata": {},
   "outputs": [],
   "source": [
    "# Snowflake connection details\n",
    "\n",
    "account = 'spb60171.us-east-1'\n",
    "username = 'Josimal360'\n",
    "password = 'Josh@snowflake360'\n",
    "database = 'WideWorldImportersDW'\n",
    "\n"
   ]
  },
  {
   "cell_type": "code",
   "execution_count": 6,
   "id": "dabdef87",
   "metadata": {},
   "outputs": [],
   "source": [
    "snowflake_conn = snowflake.connector.connect(user=username,\n",
    "                                            password=password,\n",
    "                                            account=account,\n",
    "                                            database=database\n",
    "                                            )\n",
    "\n",
    "snowflake_cursor = snowflake_conn.cursor()\n",
    "\n"
   ]
  },
  {
   "cell_type": "code",
   "execution_count": 47,
   "id": "e6fc179e",
   "metadata": {},
   "outputs": [
    {
     "name": "stderr",
     "output_type": "stream",
     "text": [
      "C:\\Users\\USER\\AppData\\Local\\Temp\\ipykernel_9424\\1435575704.py:3: UserWarning: pandas only supports SQLAlchemy connectable (engine/connection) or database string URI or sqlite3 DBAPI2 connection. Other DBAPI2 objects are not tested. Please consider using SQLAlchemy.\n",
      "  list_tables = pd.read_sql(list_tables_query, sqlserver_conn)\n",
      "C:\\Users\\USER\\AppData\\Local\\Temp\\ipykernel_9424\\1435575704.py:12: UserWarning: pandas only supports SQLAlchemy connectable (engine/connection) or database string URI or sqlite3 DBAPI2 connection. Other DBAPI2 objects are not tested. Please consider using SQLAlchemy.\n",
      "  show_table_data = pd.read_sql(show_table_query, sqlserver_conn)\n",
      "C:\\Users\\USER\\AppData\\Local\\Temp\\ipykernel_9424\\1435575704.py:12: UserWarning: pandas only supports SQLAlchemy connectable (engine/connection) or database string URI or sqlite3 DBAPI2 connection. Other DBAPI2 objects are not tested. Please consider using SQLAlchemy.\n",
      "  show_table_data = pd.read_sql(show_table_query, sqlserver_conn)\n"
     ]
    },
    {
     "name": "stdout",
     "output_type": "stream",
     "text": [
      "src.buyinggroups has been created successfully!\n"
     ]
    },
    {
     "name": "stderr",
     "output_type": "stream",
     "text": [
      "C:\\Users\\USER\\AppData\\Local\\Temp\\ipykernel_9424\\1435575704.py:12: UserWarning: pandas only supports SQLAlchemy connectable (engine/connection) or database string URI or sqlite3 DBAPI2 connection. Other DBAPI2 objects are not tested. Please consider using SQLAlchemy.\n",
      "  show_table_data = pd.read_sql(show_table_query, sqlserver_conn)\n",
      "C:\\Users\\USER\\AppData\\Local\\Temp\\ipykernel_9424\\1435575704.py:12: UserWarning: pandas only supports SQLAlchemy connectable (engine/connection) or database string URI or sqlite3 DBAPI2 connection. Other DBAPI2 objects are not tested. Please consider using SQLAlchemy.\n",
      "  show_table_data = pd.read_sql(show_table_query, sqlserver_conn)\n"
     ]
    },
    {
     "name": "stdout",
     "output_type": "stream",
     "text": [
      "src.cities has been created successfully!\n"
     ]
    },
    {
     "name": "stderr",
     "output_type": "stream",
     "text": [
      "C:\\Users\\USER\\AppData\\Local\\Temp\\ipykernel_9424\\1435575704.py:12: UserWarning: pandas only supports SQLAlchemy connectable (engine/connection) or database string URI or sqlite3 DBAPI2 connection. Other DBAPI2 objects are not tested. Please consider using SQLAlchemy.\n",
      "  show_table_data = pd.read_sql(show_table_query, sqlserver_conn)\n",
      "C:\\Users\\USER\\AppData\\Local\\Temp\\ipykernel_9424\\1435575704.py:12: UserWarning: pandas only supports SQLAlchemy connectable (engine/connection) or database string URI or sqlite3 DBAPI2 connection. Other DBAPI2 objects are not tested. Please consider using SQLAlchemy.\n",
      "  show_table_data = pd.read_sql(show_table_query, sqlserver_conn)\n"
     ]
    },
    {
     "name": "stdout",
     "output_type": "stream",
     "text": [
      "src.colors has been created successfully!\n"
     ]
    },
    {
     "name": "stderr",
     "output_type": "stream",
     "text": [
      "C:\\Users\\USER\\AppData\\Local\\Temp\\ipykernel_9424\\1435575704.py:12: UserWarning: pandas only supports SQLAlchemy connectable (engine/connection) or database string URI or sqlite3 DBAPI2 connection. Other DBAPI2 objects are not tested. Please consider using SQLAlchemy.\n",
      "  show_table_data = pd.read_sql(show_table_query, sqlserver_conn)\n",
      "C:\\Users\\USER\\AppData\\Local\\Temp\\ipykernel_9424\\1435575704.py:12: UserWarning: pandas only supports SQLAlchemy connectable (engine/connection) or database string URI or sqlite3 DBAPI2 connection. Other DBAPI2 objects are not tested. Please consider using SQLAlchemy.\n",
      "  show_table_data = pd.read_sql(show_table_query, sqlserver_conn)\n"
     ]
    },
    {
     "name": "stdout",
     "output_type": "stream",
     "text": [
      "src.countries has been created successfully!\n"
     ]
    },
    {
     "name": "stderr",
     "output_type": "stream",
     "text": [
      "C:\\Users\\USER\\AppData\\Local\\Temp\\ipykernel_9424\\1435575704.py:12: UserWarning: pandas only supports SQLAlchemy connectable (engine/connection) or database string URI or sqlite3 DBAPI2 connection. Other DBAPI2 objects are not tested. Please consider using SQLAlchemy.\n",
      "  show_table_data = pd.read_sql(show_table_query, sqlserver_conn)\n",
      "C:\\Users\\USER\\AppData\\Local\\Temp\\ipykernel_9424\\1435575704.py:12: UserWarning: pandas only supports SQLAlchemy connectable (engine/connection) or database string URI or sqlite3 DBAPI2 connection. Other DBAPI2 objects are not tested. Please consider using SQLAlchemy.\n",
      "  show_table_data = pd.read_sql(show_table_query, sqlserver_conn)\n"
     ]
    },
    {
     "name": "stdout",
     "output_type": "stream",
     "text": [
      "src.customercategories has been created successfully!\n"
     ]
    },
    {
     "name": "stderr",
     "output_type": "stream",
     "text": [
      "C:\\Users\\USER\\AppData\\Local\\Temp\\ipykernel_9424\\1435575704.py:12: UserWarning: pandas only supports SQLAlchemy connectable (engine/connection) or database string URI or sqlite3 DBAPI2 connection. Other DBAPI2 objects are not tested. Please consider using SQLAlchemy.\n",
      "  show_table_data = pd.read_sql(show_table_query, sqlserver_conn)\n",
      "C:\\Users\\USER\\AppData\\Local\\Temp\\ipykernel_9424\\1435575704.py:12: UserWarning: pandas only supports SQLAlchemy connectable (engine/connection) or database string URI or sqlite3 DBAPI2 connection. Other DBAPI2 objects are not tested. Please consider using SQLAlchemy.\n",
      "  show_table_data = pd.read_sql(show_table_query, sqlserver_conn)\n"
     ]
    },
    {
     "name": "stdout",
     "output_type": "stream",
     "text": [
      "src.invoicelines has been created successfully!\n"
     ]
    },
    {
     "name": "stderr",
     "output_type": "stream",
     "text": [
      "C:\\Users\\USER\\AppData\\Local\\Temp\\ipykernel_9424\\1435575704.py:12: UserWarning: pandas only supports SQLAlchemy connectable (engine/connection) or database string URI or sqlite3 DBAPI2 connection. Other DBAPI2 objects are not tested. Please consider using SQLAlchemy.\n",
      "  show_table_data = pd.read_sql(show_table_query, sqlserver_conn)\n",
      "C:\\Users\\USER\\AppData\\Local\\Temp\\ipykernel_9424\\1435575704.py:12: UserWarning: pandas only supports SQLAlchemy connectable (engine/connection) or database string URI or sqlite3 DBAPI2 connection. Other DBAPI2 objects are not tested. Please consider using SQLAlchemy.\n",
      "  show_table_data = pd.read_sql(show_table_query, sqlserver_conn)\n"
     ]
    },
    {
     "name": "stdout",
     "output_type": "stream",
     "text": [
      "src.invoices has been created successfully!\n"
     ]
    },
    {
     "name": "stderr",
     "output_type": "stream",
     "text": [
      "C:\\Users\\USER\\AppData\\Local\\Temp\\ipykernel_9424\\1435575704.py:12: UserWarning: pandas only supports SQLAlchemy connectable (engine/connection) or database string URI or sqlite3 DBAPI2 connection. Other DBAPI2 objects are not tested. Please consider using SQLAlchemy.\n",
      "  show_table_data = pd.read_sql(show_table_query, sqlserver_conn)\n",
      "C:\\Users\\USER\\AppData\\Local\\Temp\\ipykernel_9424\\1435575704.py:12: UserWarning: pandas only supports SQLAlchemy connectable (engine/connection) or database string URI or sqlite3 DBAPI2 connection. Other DBAPI2 objects are not tested. Please consider using SQLAlchemy.\n",
      "  show_table_data = pd.read_sql(show_table_query, sqlserver_conn)\n"
     ]
    },
    {
     "name": "stdout",
     "output_type": "stream",
     "text": [
      "src.packagetypes has been created successfully!\n"
     ]
    },
    {
     "name": "stderr",
     "output_type": "stream",
     "text": [
      "C:\\Users\\USER\\AppData\\Local\\Temp\\ipykernel_9424\\1435575704.py:12: UserWarning: pandas only supports SQLAlchemy connectable (engine/connection) or database string URI or sqlite3 DBAPI2 connection. Other DBAPI2 objects are not tested. Please consider using SQLAlchemy.\n",
      "  show_table_data = pd.read_sql(show_table_query, sqlserver_conn)\n",
      "C:\\Users\\USER\\AppData\\Local\\Temp\\ipykernel_9424\\1435575704.py:12: UserWarning: pandas only supports SQLAlchemy connectable (engine/connection) or database string URI or sqlite3 DBAPI2 connection. Other DBAPI2 objects are not tested. Please consider using SQLAlchemy.\n",
      "  show_table_data = pd.read_sql(show_table_query, sqlserver_conn)\n"
     ]
    },
    {
     "name": "stdout",
     "output_type": "stream",
     "text": [
      "src.people has been created successfully!\n"
     ]
    },
    {
     "name": "stderr",
     "output_type": "stream",
     "text": [
      "C:\\Users\\USER\\AppData\\Local\\Temp\\ipykernel_9424\\1435575704.py:12: UserWarning: pandas only supports SQLAlchemy connectable (engine/connection) or database string URI or sqlite3 DBAPI2 connection. Other DBAPI2 objects are not tested. Please consider using SQLAlchemy.\n",
      "  show_table_data = pd.read_sql(show_table_query, sqlserver_conn)\n",
      "C:\\Users\\USER\\AppData\\Local\\Temp\\ipykernel_9424\\1435575704.py:12: UserWarning: pandas only supports SQLAlchemy connectable (engine/connection) or database string URI or sqlite3 DBAPI2 connection. Other DBAPI2 objects are not tested. Please consider using SQLAlchemy.\n",
      "  show_table_data = pd.read_sql(show_table_query, sqlserver_conn)\n"
     ]
    },
    {
     "name": "stdout",
     "output_type": "stream",
     "text": [
      "src.stateprovinces has been created successfully!\n"
     ]
    },
    {
     "name": "stderr",
     "output_type": "stream",
     "text": [
      "C:\\Users\\USER\\AppData\\Local\\Temp\\ipykernel_9424\\1435575704.py:12: UserWarning: pandas only supports SQLAlchemy connectable (engine/connection) or database string URI or sqlite3 DBAPI2 connection. Other DBAPI2 objects are not tested. Please consider using SQLAlchemy.\n",
      "  show_table_data = pd.read_sql(show_table_query, sqlserver_conn)\n",
      "C:\\Users\\USER\\AppData\\Local\\Temp\\ipykernel_9424\\1435575704.py:12: UserWarning: pandas only supports SQLAlchemy connectable (engine/connection) or database string URI or sqlite3 DBAPI2 connection. Other DBAPI2 objects are not tested. Please consider using SQLAlchemy.\n",
      "  show_table_data = pd.read_sql(show_table_query, sqlserver_conn)\n"
     ]
    },
    {
     "name": "stdout",
     "output_type": "stream",
     "text": [
      "src.stockitems has been created successfully!\n"
     ]
    },
    {
     "name": "stderr",
     "output_type": "stream",
     "text": [
      "C:\\Users\\USER\\AppData\\Local\\Temp\\ipykernel_9424\\1435575704.py:12: UserWarning: pandas only supports SQLAlchemy connectable (engine/connection) or database string URI or sqlite3 DBAPI2 connection. Other DBAPI2 objects are not tested. Please consider using SQLAlchemy.\n",
      "  show_table_data = pd.read_sql(show_table_query, sqlserver_conn)\n",
      "C:\\Users\\USER\\AppData\\Local\\Temp\\ipykernel_9424\\1435575704.py:12: UserWarning: pandas only supports SQLAlchemy connectable (engine/connection) or database string URI or sqlite3 DBAPI2 connection. Other DBAPI2 objects are not tested. Please consider using SQLAlchemy.\n",
      "  show_table_data = pd.read_sql(show_table_query, sqlserver_conn)\n"
     ]
    },
    {
     "name": "stdout",
     "output_type": "stream",
     "text": [
      "src.customers has been created successfully!\n"
     ]
    }
   ],
   "source": [
    "list_tables_query = 'SELECT * FROM sys.tables WHERE schema_id = 5;'\n",
    "\n",
    "list_tables = pd.read_sql(list_tables_query, sqlserver_conn)\n",
    "\n",
    "list_tables = list_tables['name']\n",
    "\n",
    "list_tables_list = list_tables.values\n",
    "\n",
    "def create_table(table):\n",
    "    create_table_query = f'CREATE OR REPLACE TABLE src.{table}('\n",
    "    show_table_query = f'SELECT * FROM src.{table};'\n",
    "    show_table_data = pd.read_sql(show_table_query, sqlserver_conn)\n",
    "    table_columns = list(show_table_data.columns)\n",
    "    column_types = list(show_table_data.dtypes)\n",
    "    col_len = len(table_columns)\n",
    "    col_len_list = list(range(col_len))\n",
    "    for i in range(col_len):\n",
    "        create_table_query += f' {table_columns[i]}'\n",
    "        if column_types[i] == 'int64':\n",
    "            column_types[i] = 'INT'\n",
    "        elif column_types[i] == 'object':\n",
    "            column_types[i] = 'VARCHAR(400)'\n",
    "        elif column_types[i] == 'float64':\n",
    "            column_types[i] = 'FLOAT'\n",
    "        elif column_types[i] == 'datetime64[ns]':\n",
    "            column_types[i] = 'DATETIME'\n",
    "        elif column_types[i] == 'bool':\n",
    "            column_types[i] = 'BOOLEAN'\n",
    "        elif table_columns[i] == 'ValidTo':\n",
    "            column_types[i] = 'DATETIME'\n",
    "        create_table_query += f' {column_types[i]},'\n",
    "        \n",
    "    create_table_query = create_table_query.rstrip(',')\n",
    "    create_table_query += ');'\n",
    "    \n",
    "    return create_table_query\n",
    "\n",
    "for table in list_tables_list:\n",
    "    create_table(table = table)\n",
    "    snowflake_cursor.execute(create_table(table))\n",
    "    snowflake_conn.commit()\n",
    "    print(f'src.{table} has been created successfully!')\n",
    "    \n",
    "    \n",
    "    \n",
    "    \n",
    "    \n"
   ]
  },
  {
   "cell_type": "code",
   "execution_count": 48,
   "id": "02c82cc6",
   "metadata": {},
   "outputs": [],
   "source": [
    "insert = \"INSERT INTO omah.pytest(ID, Name) VALUES(2, 'Evil'), (3, 'Dog');\"\n",
    "\n",
    "snowflake_cursor.execute(insert)\n",
    "\n",
    "snowflake_conn.commit()\n"
   ]
  },
  {
   "cell_type": "code",
   "execution_count": 31,
   "id": "a8529963",
   "metadata": {},
   "outputs": [
    {
     "ename": "TypeError",
     "evalue": "'int' object is not iterable",
     "output_type": "error",
     "traceback": [
      "\u001b[1;31m---------------------------------------------------------------------------\u001b[0m",
      "\u001b[1;31mTypeError\u001b[0m                                 Traceback (most recent call last)",
      "Cell \u001b[1;32mIn[31], line 12\u001b[0m\n\u001b[0;32m     10\u001b[0m output \u001b[38;5;241m=\u001b[39m []\n\u001b[0;32m     11\u001b[0m \u001b[38;5;28;01mfor\u001b[39;00m row \u001b[38;5;129;01min\u001b[39;00m result:\n\u001b[1;32m---> 12\u001b[0m     row_data \u001b[38;5;241m=\u001b[39m \u001b[38;5;28;43mlist\u001b[39;49m\u001b[43m(\u001b[49m\u001b[43mrow\u001b[49m\u001b[43m)\u001b[49m\n\u001b[0;32m     13\u001b[0m     \u001b[38;5;28;01mfor\u001b[39;00m i \u001b[38;5;129;01min\u001b[39;00m \u001b[38;5;28mrange\u001b[39m(\u001b[38;5;28mlen\u001b[39m(row_data)):\n\u001b[0;32m     14\u001b[0m         \u001b[38;5;28;01mif\u001b[39;00m \u001b[38;5;28misinstance\u001b[39m(row_data[i], datetime\u001b[38;5;241m.\u001b[39mdatetime):\n",
      "\u001b[1;31mTypeError\u001b[0m: 'int' object is not iterable"
     ]
    }
   ],
   "source": [
    "import datetime\n",
    "from decimal import Decimal\n",
    "\n",
    "query = 'SELECT * FROM src.invoices'\n",
    "\n",
    "sqlserver_cursor.execute(query)\n",
    "\n",
    "result = sqlserver_cursor.fetchone()\n",
    "\n",
    "output = []\n",
    "for row in result:\n",
    "    row_data = list(row)\n",
    "    for i in range(len(row_data)):\n",
    "        if isinstance(row_data[i], datetime.datetime):\n",
    "            row_data[i] = row_data[i].strftime(\"%Y-%m-%d %H:%M:%S\")\n",
    "        elif isinstance(row_data[i], Decimal):\n",
    "            row_data[i] = float(row_data[i])\n",
    "        elif isinstance(row_data[i], datetime.date):\n",
    "            row_data[i] = row_data[i].strftime(\"%Y-%m-%d\")\n",
    "        elif row_data[i] == None:\n",
    "            row_data[i] = 0\n",
    "    \n",
    "    output.append(tuple(row_data))\n",
    "\n",
    "\n",
    "\n",
    "batch_size = 16000\n",
    "\n",
    "num_of_batches = len(output) // batch_size + 1\n",
    "\n",
    "for i in range(num_of_batches):\n",
    "    starting_index = i * batch_size\n",
    "    ending_index = (i + 1) * batch_size\n",
    "    batch = output[starting_index:ending_index]\n",
    "    print(batch)\n",
    "\n",
    "\n",
    "\n",
    "\n"
   ]
  },
  {
   "cell_type": "code",
   "execution_count": 10,
   "id": "8205d812",
   "metadata": {},
   "outputs": [
    {
     "name": "stderr",
     "output_type": "stream",
     "text": [
      "C:\\Users\\USER\\AppData\\Local\\Temp\\ipykernel_1964\\3359259952.py:3: UserWarning: pandas only supports SQLAlchemy connectable (engine/connection) or database string URI or sqlite3 DBAPI2 connection. Other DBAPI2 objects are not tested. Please consider using SQLAlchemy.\n",
      "  tables = pd.read_sql(show_tables_query, snowflake_conn)\n"
     ]
    },
    {
     "name": "stdout",
     "output_type": "stream",
     "text": [
      "src.BUYINGGROUPS has been truncated!\n"
     ]
    },
    {
     "name": "stderr",
     "output_type": "stream",
     "text": [
      "C:\\Users\\USER\\AppData\\Local\\Temp\\ipykernel_1964\\3359259952.py:12: UserWarning: pandas only supports SQLAlchemy connectable (engine/connection) or database string URI or sqlite3 DBAPI2 connection. Other DBAPI2 objects are not tested. Please consider using SQLAlchemy.\n",
      "  get_columns = pd.read_sql(columns_query, snowflake_conn)\n"
     ]
    },
    {
     "name": "stdout",
     "output_type": "stream",
     "text": [
      "src.BUYINGGROUPS has been reloaded successfully!\n",
      "src.CITIES has been truncated!\n"
     ]
    },
    {
     "name": "stderr",
     "output_type": "stream",
     "text": [
      "C:\\Users\\USER\\AppData\\Local\\Temp\\ipykernel_1964\\3359259952.py:12: UserWarning: pandas only supports SQLAlchemy connectable (engine/connection) or database string URI or sqlite3 DBAPI2 connection. Other DBAPI2 objects are not tested. Please consider using SQLAlchemy.\n",
      "  get_columns = pd.read_sql(columns_query, snowflake_conn)\n"
     ]
    },
    {
     "name": "stdout",
     "output_type": "stream",
     "text": [
      "src.CITIES has been reloaded successfully!\n",
      "src.COLORS has been truncated!\n"
     ]
    },
    {
     "name": "stderr",
     "output_type": "stream",
     "text": [
      "C:\\Users\\USER\\AppData\\Local\\Temp\\ipykernel_1964\\3359259952.py:12: UserWarning: pandas only supports SQLAlchemy connectable (engine/connection) or database string URI or sqlite3 DBAPI2 connection. Other DBAPI2 objects are not tested. Please consider using SQLAlchemy.\n",
      "  get_columns = pd.read_sql(columns_query, snowflake_conn)\n"
     ]
    },
    {
     "name": "stdout",
     "output_type": "stream",
     "text": [
      "src.COLORS has been reloaded successfully!\n",
      "src.COUNTRIES has been truncated!\n"
     ]
    },
    {
     "name": "stderr",
     "output_type": "stream",
     "text": [
      "C:\\Users\\USER\\AppData\\Local\\Temp\\ipykernel_1964\\3359259952.py:12: UserWarning: pandas only supports SQLAlchemy connectable (engine/connection) or database string URI or sqlite3 DBAPI2 connection. Other DBAPI2 objects are not tested. Please consider using SQLAlchemy.\n",
      "  get_columns = pd.read_sql(columns_query, snowflake_conn)\n"
     ]
    },
    {
     "name": "stdout",
     "output_type": "stream",
     "text": [
      "src.COUNTRIES has been reloaded successfully!\n",
      "src.CUSTOMERCATEGORIES has been truncated!\n"
     ]
    },
    {
     "name": "stderr",
     "output_type": "stream",
     "text": [
      "C:\\Users\\USER\\AppData\\Local\\Temp\\ipykernel_1964\\3359259952.py:12: UserWarning: pandas only supports SQLAlchemy connectable (engine/connection) or database string URI or sqlite3 DBAPI2 connection. Other DBAPI2 objects are not tested. Please consider using SQLAlchemy.\n",
      "  get_columns = pd.read_sql(columns_query, snowflake_conn)\n"
     ]
    },
    {
     "name": "stdout",
     "output_type": "stream",
     "text": [
      "src.CUSTOMERCATEGORIES has been reloaded successfully!\n",
      "src.CUSTOMERS has been truncated!\n"
     ]
    },
    {
     "name": "stderr",
     "output_type": "stream",
     "text": [
      "C:\\Users\\USER\\AppData\\Local\\Temp\\ipykernel_1964\\3359259952.py:12: UserWarning: pandas only supports SQLAlchemy connectable (engine/connection) or database string URI or sqlite3 DBAPI2 connection. Other DBAPI2 objects are not tested. Please consider using SQLAlchemy.\n",
      "  get_columns = pd.read_sql(columns_query, snowflake_conn)\n"
     ]
    },
    {
     "name": "stdout",
     "output_type": "stream",
     "text": [
      "src.CUSTOMERS has been reloaded successfully!\n",
      "src.INVOICELINES has been truncated!\n"
     ]
    },
    {
     "name": "stderr",
     "output_type": "stream",
     "text": [
      "C:\\Users\\USER\\AppData\\Local\\Temp\\ipykernel_1964\\3359259952.py:12: UserWarning: pandas only supports SQLAlchemy connectable (engine/connection) or database string URI or sqlite3 DBAPI2 connection. Other DBAPI2 objects are not tested. Please consider using SQLAlchemy.\n",
      "  get_columns = pd.read_sql(columns_query, snowflake_conn)\n"
     ]
    },
    {
     "name": "stdout",
     "output_type": "stream",
     "text": [
      "src.INVOICELINES has been reloaded successfully!\n",
      "src.INVOICES has been truncated!\n"
     ]
    },
    {
     "name": "stderr",
     "output_type": "stream",
     "text": [
      "C:\\Users\\USER\\AppData\\Local\\Temp\\ipykernel_1964\\3359259952.py:12: UserWarning: pandas only supports SQLAlchemy connectable (engine/connection) or database string URI or sqlite3 DBAPI2 connection. Other DBAPI2 objects are not tested. Please consider using SQLAlchemy.\n",
      "  get_columns = pd.read_sql(columns_query, snowflake_conn)\n"
     ]
    },
    {
     "name": "stdout",
     "output_type": "stream",
     "text": [
      "src.INVOICES has been reloaded successfully!\n",
      "src.PACKAGETYPES has been truncated!\n"
     ]
    },
    {
     "name": "stderr",
     "output_type": "stream",
     "text": [
      "C:\\Users\\USER\\AppData\\Local\\Temp\\ipykernel_1964\\3359259952.py:12: UserWarning: pandas only supports SQLAlchemy connectable (engine/connection) or database string URI or sqlite3 DBAPI2 connection. Other DBAPI2 objects are not tested. Please consider using SQLAlchemy.\n",
      "  get_columns = pd.read_sql(columns_query, snowflake_conn)\n"
     ]
    },
    {
     "name": "stdout",
     "output_type": "stream",
     "text": [
      "src.PACKAGETYPES has been reloaded successfully!\n",
      "src.PEOPLE has been truncated!\n"
     ]
    },
    {
     "name": "stderr",
     "output_type": "stream",
     "text": [
      "C:\\Users\\USER\\AppData\\Local\\Temp\\ipykernel_1964\\3359259952.py:12: UserWarning: pandas only supports SQLAlchemy connectable (engine/connection) or database string URI or sqlite3 DBAPI2 connection. Other DBAPI2 objects are not tested. Please consider using SQLAlchemy.\n",
      "  get_columns = pd.read_sql(columns_query, snowflake_conn)\n"
     ]
    },
    {
     "name": "stdout",
     "output_type": "stream",
     "text": [
      "src.PEOPLE has been reloaded successfully!\n",
      "src.STATEPROVINCES has been truncated!\n"
     ]
    },
    {
     "name": "stderr",
     "output_type": "stream",
     "text": [
      "C:\\Users\\USER\\AppData\\Local\\Temp\\ipykernel_1964\\3359259952.py:12: UserWarning: pandas only supports SQLAlchemy connectable (engine/connection) or database string URI or sqlite3 DBAPI2 connection. Other DBAPI2 objects are not tested. Please consider using SQLAlchemy.\n",
      "  get_columns = pd.read_sql(columns_query, snowflake_conn)\n"
     ]
    },
    {
     "name": "stdout",
     "output_type": "stream",
     "text": [
      "src.STATEPROVINCES has been reloaded successfully!\n",
      "src.STOCKITEMS has been truncated!\n"
     ]
    },
    {
     "name": "stderr",
     "output_type": "stream",
     "text": [
      "C:\\Users\\USER\\AppData\\Local\\Temp\\ipykernel_1964\\3359259952.py:12: UserWarning: pandas only supports SQLAlchemy connectable (engine/connection) or database string URI or sqlite3 DBAPI2 connection. Other DBAPI2 objects are not tested. Please consider using SQLAlchemy.\n",
      "  get_columns = pd.read_sql(columns_query, snowflake_conn)\n"
     ]
    },
    {
     "name": "stdout",
     "output_type": "stream",
     "text": [
      "src.STOCKITEMS has been reloaded successfully!\n"
     ]
    }
   ],
   "source": [
    "show_tables_query = 'SHOW TABLES IN WideWorldImportersDW.src'\n",
    "\n",
    "tables = pd.read_sql(show_tables_query, snowflake_conn)\n",
    "\n",
    "tables = tables['name']\n",
    "\n",
    "\n",
    "def insert_query(table):\n",
    "    insert_query = \"INSERT INTO\"\n",
    "    insert_query += f' src.{table}('\n",
    "    columns_query = f'SELECT * FROM src.{table};'\n",
    "    get_columns = pd.read_sql(columns_query, snowflake_conn)\n",
    "    cols_list = list(get_columns.columns)\n",
    "    len_cols = list(range(len(cols_list)))\n",
    "    for i in range(len(cols_list)):\n",
    "        insert_query += f' {cols_list[i]},'\n",
    "\n",
    "        if i == len_cols[-1]:\n",
    "            insert_query = insert_query.rstrip(',')\n",
    "\n",
    "    insert_query += ') VALUES'\n",
    "\n",
    "    tbl_values_query = f'SELECT * FROM src.{table};'\n",
    "    sqlserver_cursor.execute(tbl_values_query)\n",
    "    table_values = sqlserver_cursor.fetchall()\n",
    "    num_of_values = list(range(len(table_values)))\n",
    "    values = []\n",
    "    for each_row in table_values:\n",
    "        value_data = list(each_row)\n",
    "        for i in range(len(value_data)):\n",
    "            if isinstance(value_data[i], datetime.datetime):\n",
    "                value_data[i] = value_data[i].strftime(\"%Y-%m-%d %H:%M:%S.%f\")\n",
    "            elif isinstance(value_data[i], datetime.date):\n",
    "                value_data[i] = value_data[i].strftime(\"%Y-%m-%d\")\n",
    "            elif isinstance(value_data[i], Decimal):\n",
    "                value_data[i] = float(value_data[i])\n",
    "            elif value_data[i] == None:\n",
    "                value_data[i] = 0\n",
    "        values.append(tuple(value_data))\n",
    "\n",
    "    bulk_size = 16000\n",
    "\n",
    "    bulk_runs = len(values) // bulk_size + 1\n",
    "    for i in range(bulk_runs):\n",
    "        start = i * bulk_size\n",
    "        end = (i + 1) * bulk_size\n",
    "        bulk = values[start:end]\n",
    "        bulk_len_list = list(range(len(bulk)))\n",
    "        insert_bulk = insert_query\n",
    "        for j in bulk_len_list:\n",
    "            insert_bulk += f' {bulk[j]},'\n",
    "\n",
    "        insert_bulk = insert_bulk.rstrip(',')\n",
    "        snowflake_cursor.execute(insert_bulk)\n",
    "        snowflake_conn.commit()\n",
    "\n",
    "\n",
    "for table in tables:\n",
    "    trunc = f'TRUNCATE TABLE src.{table};'\n",
    "    snowflake_cursor.execute(trunc)\n",
    "    snowflake_conn.commit()\n",
    "    print(f'src.{table} has been truncated!')\n",
    "    insert_query(table=table)\n",
    "    print(f'src.{table} has been reloaded successfully!')\n",
    "\n"
   ]
  },
  {
   "cell_type": "code",
   "execution_count": 40,
   "id": "0ec7e7bd",
   "metadata": {},
   "outputs": [
    {
     "name": "stdout",
     "output_type": "stream",
     "text": [
      "(1, 832, 832, 1, 3, 3032, 3032, 2, 14, datetime.date(2013, 1, 1), '12126', False, None, None, 'Suite 24, 1345 Jun Avenue', None, 1, 0, '', '', '{\"Events\": [{ \"Event\":\"Ready for collection\",\"EventTime\":\"2013-01-01T12:00:00\",\"ConNote\":\"EAN-125-1051\"},{ \"Event\":\"DeliveryAttempt\",\"EventTime\":\"2013-01-02T07:05:00\",\"ConNote\":\"EAN-125-1051\",\"DriverID\":15,\"Latitude\":41.3617214,\"Longitude\":-81.4695602,\"Status\":\"Delivered\"}],\"DeliveredWhen\":\"2013-01-02T07:05:00\",\"ReceivedBy\":\"Aakriti Byrraju\"}', '2013-01-02 07:05:00.0000000', 'Aakriti Byrraju', 15, datetime.datetime(2013, 1, 2, 7, 0))\n"
     ]
    }
   ],
   "source": [
    "query = 'SELECT * FROM src.invoices'\n",
    "\n",
    "sqlserver_cursor.execute(query)\n",
    "\n",
    "result = sqlserver_cursor.fetchone()\n",
    "\n",
    "print(result)"
   ]
  },
  {
   "cell_type": "code",
   "execution_count": null,
   "id": "dca69952",
   "metadata": {},
   "outputs": [],
   "source": []
  },
  {
   "cell_type": "code",
   "execution_count": null,
   "id": "918e985a",
   "metadata": {},
   "outputs": [],
   "source": []
  },
  {
   "cell_type": "code",
   "execution_count": null,
   "id": "a65acfbc",
   "metadata": {},
   "outputs": [],
   "source": []
  }
 ],
 "metadata": {
  "kernelspec": {
   "display_name": "Python 3 (ipykernel)",
   "language": "python",
   "name": "python3"
  },
  "language_info": {
   "codemirror_mode": {
    "name": "ipython",
    "version": 3
   },
   "file_extension": ".py",
   "mimetype": "text/x-python",
   "name": "python",
   "nbconvert_exporter": "python",
   "pygments_lexer": "ipython3",
   "version": "3.10.9"
  }
 },
 "nbformat": 4,
 "nbformat_minor": 5
}
